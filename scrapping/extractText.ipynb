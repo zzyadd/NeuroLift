{
 "cells": [
  {
   "cell_type": "code",
   "execution_count": null,
   "metadata": {},
   "outputs": [
    {
     "name": "stdout",
     "output_type": "stream",
     "text": [
      "Warning: Poppler path /home/your_username/my_conda_env/bin/ does not exist. Update the path if necessary.\n",
      "Converted 270__Cyber_Security_Interview_Questions_.pdf to text successfully!\n",
      "Converted Applied_Math_for_Security.pdf to text successfully!\n",
      "Converted Azure_Security.pdf to text successfully!\n",
      "Converted A_Brief_Introduction_to_neaural_networks.pdf to text successfully!\n",
      "Converted A_Hybrid_Neural_Network_Architecture_to_.pdf to text successfully!\n",
      "Converted Cheat_Sheets_for_AI__Neural_Networks__Ma.pdf to text successfully!\n",
      "Converted Cloud_Native_Software_Security_Handbook.pdf to text successfully!\n",
      "Converted Computer_Networks__2023_.pdf to text successfully!\n",
      "Converted Cybersecurity_All_in_One_For_Dummies.pdf to text successfully!\n",
      "Converted Cybersecurity_Architect_s_Handbook.pdf to text successfully!\n",
      "Converted CyberSecurity_in_a_DevOps_Environment.pdf to text successfully!\n",
      "Converted Cyber_Security_Interview_Questions.pdf to text successfully!\n",
      "Converted Data_Communication_and_Computer_Networks.pdf to text successfully!\n",
      "Converted Deep_Learning_Networks.pdf to text successfully!\n",
      "Converted Discovering_Cybersecurity.pdf to text successfully!\n",
      "Converted Enhancing_IoT_Security.pdf to text successfully!\n",
      "Converted Information_Security_Handbook.pdf to text successfully!\n",
      "Converted Introduction_to_Ansible_Network_Automati.pdf to text successfully!\n",
      "Converted Introduction_to_Cybersecurity__2023_.pdf to text successfully!\n",
      "Converted IoT_enabled_Convolutional_Neural_Network.pdf to text successfully!\n",
      "Converted IPv6_Network_Slicing.pdf to text successfully!\n",
      "Converted Mastering_Neural_Networks.pdf to text successfully!\n",
      "Converted Molecular_Networking.pdf to text successfully!\n",
      "Converted network_analysis_in_R.pdf to text successfully!\n",
      "Converted Network_Architect_s_Handbook.pdf to text successfully!\n",
      "Converted Neural_Networks_and_Deep_Learning.pdf to text successfully!\n",
      "Converted Neural_Networks_Using_C__Succinctly.pdf to text successfully!\n",
      "Converted Neural_Network_Computer_Vision_with_Open.pdf to text successfully!\n",
      "Converted Neutral_Network.pdf to text successfully!\n",
      "Converted Opportunistic_Networks.pdf to text successfully!\n",
      "Converted Recurrent_Neural_Networks__2016_.pdf to text successfully!\n",
      "Converted Spring_Security_in_Action.pdf to text successfully!\n",
      "Converted Strengthening_Deep_Neural_Networks.pdf to text successfully!\n",
      "Converted Ultimate_Linux_Network_Security_for_Ente.pdf to text successfully!\n",
      "Converted Ultimate_Neural_Network_Programming_with.pdf to text successfully!\n",
      "Converted Zero_Trust_Networks.pdf to text successfully!\n"
     ]
    },
    {
     "ename": "",
     "evalue": "",
     "output_type": "error",
     "traceback": [
      "\u001b[1;31mThe Kernel crashed while executing code in the current cell or a previous cell. \n",
      "\u001b[1;31mPlease review the code in the cell(s) to identify a possible cause of the failure. \n",
      "\u001b[1;31mClick <a href='https://aka.ms/vscodeJupyterKernelCrash'>here</a> for more info. \n",
      "\u001b[1;31mView Jupyter <a href='command:jupyter.viewOutput'>log</a> for further details."
     ]
    }
   ],
   "source": [
    "import os\n",
    "import PyPDF2\n",
    "from pdf2image import convert_from_path\n",
    "import pytesseract\n",
    "\n",
    "def clean_text(text):\n",
    "    \"\"\"Remove or replace invalid Unicode characters.\"\"\"\n",
    "    return text.encode('utf-8', 'ignore').decode('utf-8', 'ignore')\n",
    "\n",
    "def pdf_to_text(pdf_path, output_txt, poppler_path=None):\n",
    "    \"\"\"Extract text from a PDF using PyPDF2; fallback to OCR if no text found.\"\"\"\n",
    "    try:\n",
    "        with open(pdf_path, 'rb') as pdf_file:\n",
    "            pdf_reader = PyPDF2.PdfReader(pdf_file)\n",
    "            text = ''\n",
    "\n",
    "            for page in pdf_reader.pages:\n",
    "                extracted_text = page.extract_text()\n",
    "                if extracted_text:\n",
    "                    text += extracted_text + '\\n'\n",
    "    except Exception as e:\n",
    "        print(f\"Error reading {pdf_path} with PyPDF2: {e}\")\n",
    "        text = ''\n",
    "\n",
    "    # If no text was extracted, use OCR\n",
    "    if not text.strip():\n",
    "        print(f\"Using OCR for {pdf_path} (no selectable text found).\")\n",
    "        text = pdf_to_text_ocr(pdf_path, poppler_path)\n",
    "\n",
    "    # Clean the text to remove invalid Unicode characters\n",
    "    text = clean_text(text)\n",
    "\n",
    "    with open(output_txt, 'w', encoding='utf-8') as txt_file:\n",
    "        txt_file.write(text)\n",
    "\n",
    "def pdf_to_text_ocr(pdf_path, poppler_path=None):\n",
    "    \"\"\"Convert PDF to text using OCR (Tesseract).\"\"\"\n",
    "    try:\n",
    "        images = convert_from_path(pdf_path, poppler_path=poppler_path)  # Convert PDF pages to images\n",
    "        text = ''\n",
    "\n",
    "        for img in images:\n",
    "            text += pytesseract.image_to_string(img) + '\\n'\n",
    "        \n",
    "        return text\n",
    "    except Exception as e:\n",
    "        print(f\"Error processing {pdf_path} with OCR: {e}\")\n",
    "        return ''\n",
    "\n",
    "if __name__ == \"__main__\":\n",
    "    pdf_dir = \"/mnt/c/Users/Zy565/Downloads/EXHD/dataNEOUROlift/BOOKS/Network_Security\" # Directory containing PDFs\n",
    "    output_dir = \"/mnt/c/Users/Zy565/Downloads/EXHD/dataNEOUROlift/BOOKS/NetworkTEXTdir\"  # Directory to save text files\n",
    "    os.makedirs(output_dir, exist_ok=True)\n",
    "    \n",
    "    # Adjust Poppler path if needed\n",
    "    poppler_path = \"/home/your_username/my_conda_env/bin/\"  # Update if required\n",
    "    # Check if the Poppler path exists\n",
    "    if not os.path.exists(poppler_path):\n",
    "        print(f\"Warning: Poppler path {poppler_path} does not exist. Update the path if necessary.\")\n",
    "    for filename in os.listdir(pdf_dir):\n",
    "        if filename.lower().endswith('.pdf'):\n",
    "            pdf_path = os.path.join(pdf_dir, filename)\n",
    "            output_txt = os.path.join(output_dir, filename.replace('.pdf', '.txt'))\n",
    "            pdf_to_text(pdf_path, output_txt, poppler_path)\n",
    "            print(f\"Converted {filename} to text successfully!\")"
   ]
  },
  {
   "cell_type": "code",
   "execution_count": null,
   "metadata": {},
   "outputs": [
    {
     "ename": "",
     "evalue": "",
     "output_type": "error",
     "traceback": [
      "\u001b[1;31mCannot execute code, session has been disposed. Please try restarting the Kernel."
     ]
    },
    {
     "ename": "",
     "evalue": "",
     "output_type": "error",
     "traceback": [
      "\u001b[1;31mCannot execute code, session has been disposed. Please try restarting the Kernel. \n",
      "\u001b[1;31mView Jupyter <a href='command:jupyter.viewOutput'>log</a> for further details."
     ]
    }
   ],
   "source": [
    "import os\n",
    "import gc\n",
    "from pdf2image import convert_from_path\n",
    "import pytesseract\n",
    "\n",
    "# Set the path to the Tesseract executable\n",
    "pytesseract.pytesseract.tesseract_cmd = r'/usr/bin/tesseract'  # Update this path as needed\n",
    "\n",
    "# Set the TESSDATA_PREFIX environment variable\n",
    "os.environ['TESSDATA_PREFIX'] = '/usr/share/tesseract-ocr/4.00/tessdata'  # Update this path as needed\n",
    "\n",
    "def pdf_to_text_ocr(pdf_path, output_txt, image_output_dir):\n",
    "    \"\"\"Convert PDF to text using OCR, processing one page at a time.\"\"\"\n",
    "    os.makedirs(image_output_dir, exist_ok=True)\n",
    "    extracted_text = \"\"\n",
    "\n",
    "    # Convert PDF to images one page at a time\n",
    "    images = convert_from_path(pdf_path)\n",
    "    for i, img in enumerate(images):\n",
    "        image_path = os.path.join(image_output_dir, f\"page_{i+1}.png\")\n",
    "        img.save(image_path, \"PNG\")\n",
    "        \n",
    "        # Perform OCR on the current page\n",
    "        page_text = pytesseract.image_to_string(image_path)\n",
    "        extracted_text += page_text + \"\\n\\n\"  # Separate pages with newlines\n",
    "        \n",
    "        # Clean up memory for the current page\n",
    "        del img, page_text\n",
    "        gc.collect()\n",
    "\n",
    "    # Save the extracted text to a file\n",
    "    with open(output_txt, \"w\", encoding=\"utf-8\") as txt_file:\n",
    "        txt_file.write(extracted_text)\n",
    "\n",
    "    # Clean up memory\n",
    "    del images, extracted_text\n",
    "    gc.collect()\n",
    "\n",
    "if __name__ == \"__main__\":\n",
    "    pdf_dir = \"/mnt/c/Users/Zy565/Downloads/EXHD/dataNEOUROlift/BOOKS/Network_Security\"  # Directory containing PDFs\n",
    "    output_dir = \"/mnt/c/Users/Zy565/Downloads/EXHD/dataNEOUROlift/BOOKS/NetworkTEXTdir\"  # Directory to save text files\n",
    "    image_dir = \"output_images\"  # Directory to save images of pages\n",
    "    os.makedirs(output_dir, exist_ok=True)\n",
    "\n",
    "    for filename in os.listdir(pdf_dir):\n",
    "        if filename.lower().endswith(\".pdf\"):\n",
    "            pdf_path = os.path.join(pdf_dir, filename)\n",
    "            output_txt = os.path.join(output_dir, filename.replace(\".pdf\", \".txt\"))\n",
    "            image_output_dir = os.path.join(image_dir, filename.replace(\".pdf\", \"\"))\n",
    "\n",
    "            # Process the PDF file\n",
    "            pdf_to_text_ocr(pdf_path, output_txt, image_output_dir)\n",
    "            print(f\"OCR completed: {filename} -> {output_txt}\")\n",
    "\n",
    "            # Clean up memory after processing each file\n",
    "            del pdf_path, output_txt, image_output_dir\n",
    "            gc.collect()"
   ]
  },
  {
   "cell_type": "code",
   "execution_count": null,
   "metadata": {},
   "outputs": [
    {
     "name": "stdout",
     "output_type": "stream",
     "text": [
      "OCR completed: 270__Cyber_Security_Interview_Questions_.pdf -> /mnt/c/Users/Zy565/Downloads/EXHD/dataNEOUROlift/BOOKS/NetworkTEXTdir/270__Cyber_Security_Interview_Questions_.txt\n"
     ]
    },
    {
     "ename": "",
     "evalue": "",
     "output_type": "error",
     "traceback": [
      "\u001b[1;31mCanceled future for execute_request message before replies were done"
     ]
    },
    {
     "ename": "",
     "evalue": "",
     "output_type": "error",
     "traceback": [
      "\u001b[1;31mCanceled future for execute_request message before replies were done. \n",
      "\u001b[1;31mView Jupyter <a href='command:jupyter.viewOutput'>log</a> for further details."
     ]
    },
    {
     "ename": "",
     "evalue": "",
     "output_type": "error",
     "traceback": [
      "\u001b[1;31mThe Kernel crashed while executing code in the current cell or a previous cell. \n",
      "\u001b[1;31mPlease review the code in the cell(s) to identify a possible cause of the failure. \n",
      "\u001b[1;31mClick <a href='https://aka.ms/vscodeJupyterKernelCrash'>here</a> for more info. \n",
      "\u001b[1;31mView Jupyter <a href='command:jupyter.viewOutput'>log</a> for further details."
     ]
    },
    {
     "ename": "",
     "evalue": "",
     "output_type": "error",
     "traceback": [
      "\u001b[1;31mThe Kernel crashed while executing code in the current cell or a previous cell. \n",
      "\u001b[1;31mPlease review the code in the cell(s) to identify a possible cause of the failure. \n",
      "\u001b[1;31mClick <a href='https://aka.ms/vscodeJupyterKernelCrash'>here</a> for more info. \n",
      "\u001b[1;31mView Jupyter <a href='command:jupyter.viewOutput'>log</a> for further details."
     ]
    },
    {
     "ename": "",
     "evalue": "",
     "output_type": "error",
     "traceback": [
      "\u001b[1;31mThe Kernel crashed while executing code in the current cell or a previous cell. \n",
      "\u001b[1;31mPlease review the code in the cell(s) to identify a possible cause of the failure. \n",
      "\u001b[1;31mClick <a href='https://aka.ms/vscodeJupyterKernelCrash'>here</a> for more info. \n",
      "\u001b[1;31mView Jupyter <a href='command:jupyter.viewOutput'>log</a> for further details."
     ]
    },
    {
     "ename": "",
     "evalue": "",
     "output_type": "error",
     "traceback": [
      "\u001b[1;31mThe Kernel crashed while executing code in the current cell or a previous cell. \n",
      "\u001b[1;31mPlease review the code in the cell(s) to identify a possible cause of the failure. \n",
      "\u001b[1;31mClick <a href='https://aka.ms/vscodeJupyterKernelCrash'>here</a> for more info. \n",
      "\u001b[1;31mView Jupyter <a href='command:jupyter.viewOutput'>log</a> for further details."
     ]
    }
   ],
   "source": [
    "import os\n",
    "import gc\n",
    "from pdf2image import convert_from_path\n",
    "import pytesseract\n",
    "\n",
    "# Set the path to the Tesseract executable\n",
    "pytesseract.pytesseract.tesseract_cmd = r'/usr/bin/tesseract'  # Update this path as needed\n",
    "\n",
    "# Set the TESSDATA_PREFIX environment variable\n",
    "os.environ['TESSDATA_PREFIX'] = '/usr/share/tesseract-ocr/4.00/tessdata'  # Update this path as needed\n",
    "\n",
    "def pdf_to_text_ocr(pdf_path, output_txt, image_output_dir):\n",
    "    \"\"\"Convert PDF to text using OCR, processing one page at a time.\"\"\"\n",
    "    os.makedirs(image_output_dir, exist_ok=True)\n",
    "    extracted_text = \"\"\n",
    "\n",
    "    # Convert PDF to images one page at a time\n",
    "    images = convert_from_path(pdf_path)\n",
    "    for i, img in enumerate(images):\n",
    "        image_path = os.path.join(image_output_dir, f\"page_{i+1}.png\")\n",
    "        img.save(image_path, \"PNG\")\n",
    "        \n",
    "        # Perform OCR on the current page\n",
    "        page_text = pytesseract.image_to_string(image_path)\n",
    "        extracted_text += page_text + \"\\n\\n\"  # Separate pages with newlines\n",
    "        \n",
    "        # Clean up memory for the current page\n",
    "        del img, page_text\n",
    "        gc.collect()\n",
    "\n",
    "    # Save the extracted text to a file\n",
    "    with open(output_txt, \"w\", encoding=\"utf-8\") as txt_file:\n",
    "        txt_file.write(extracted_text)\n",
    "\n",
    "    # Clean up memory\n",
    "    del images, extracted_text\n",
    "    gc.collect()\n",
    "\n",
    "if __name__ == \"__main__\":\n",
    "    pdf_dir = \"/mnt/c/Users/Zy565/Downloads/EXHD/dataNEOUROlift/BOOKS/Network_Security\"  # Directory containing PDFs\n",
    "    output_dir = \"/mnt/c/Users/Zy565/Downloads/EXHD/dataNEOUROlift/BOOKS/NetworkTEXTdir\"  # Directory to save text files\n",
    "    image_dir = \"output_images\"  # Directory to save images of pages\n",
    "    os.makedirs(output_dir, exist_ok=True)\n",
    "\n",
    "    for filename in os.listdir(pdf_dir):\n",
    "        if filename.lower().endswith(\".pdf\"):\n",
    "            pdf_path = os.path.join(pdf_dir, filename)\n",
    "            output_txt = os.path.join(output_dir, filename.replace(\".pdf\", \".txt\"))\n",
    "            image_output_dir = os.path.join(image_dir, filename.replace(\".pdf\", \"\"))\n",
    "\n",
    "            # Process the PDF file\n",
    "            pdf_to_text_ocr(pdf_path, output_txt, image_output_dir)\n",
    "            print(f\"OCR completed: {filename} -> {output_txt}\")\n",
    "\n",
    "            # Clean up memory after processing each file\n",
    "            del pdf_path, output_txt, image_output_dir\n",
    "            gc.collect()"
   ]
  }
 ],
 "metadata": {
  "kernelspec": {
   "display_name": "Python 3 (ipykernel)",
   "language": "python",
   "name": "python3"
  },
  "language_info": {
   "codemirror_mode": {
    "name": "ipython",
    "version": 3
   },
   "file_extension": ".py",
   "mimetype": "text/x-python",
   "name": "python",
   "nbconvert_exporter": "python",
   "pygments_lexer": "ipython3",
   "version": "3.12.4"
  }
 },
 "nbformat": 4,
 "nbformat_minor": 2
}
