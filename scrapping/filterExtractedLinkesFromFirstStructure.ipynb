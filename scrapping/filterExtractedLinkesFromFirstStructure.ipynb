{
 "cells": [
  {
   "cell_type": "code",
   "execution_count": 5,
   "metadata": {},
   "outputs": [
    {
     "name": "stdout",
     "output_type": "stream",
     "text": [
      "Filtered links have been saved to: N:\\CS\\rohana DS\\fifith_filtered_links.txt\n"
     ]
    }
   ],
   "source": [
    "# File paths\n",
    "LINKS_FILE = r\"N:\\CS\\rohana DS\\fourth_filtered_links.txt\"\n",
    "OUTPUT_FILE = r\"N:\\CS\\rohana DS\\fifith_structured_books.txt\"\n",
    "NEW_FILE = r\"N:\\CS\\rohana DS\\fifith_filtered_links.txt\"  # New file to store the result\n",
    "\n",
    "# Read the contents of LINKS_FILE\n",
    "with open(LINKS_FILE, \"r\") as file:\n",
    "    links = set(file.read().splitlines())  # Use a set for efficient intersection removal\n",
    "\n",
    "# Read the contents of OUTPUT_FILE\n",
    "with open(OUTPUT_FILE, \"r\") as file:\n",
    "    output_links = set(file.read().splitlines())  # Use a set for efficient intersection removal\n",
    "\n",
    "# Remove the intersection (common links) from LINKS_FILE\n",
    "filtered_links = links - output_links\n",
    "\n",
    "# Write the remaining links to a new file\n",
    "with open(NEW_FILE, \"w\") as file:\n",
    "    file.write(\"\\n\".join(filtered_links))\n",
    "\n",
    "print(f\"Filtered links have been saved to: {NEW_FILE}\")"
   ]
  },
  {
   "cell_type": "code",
   "execution_count": 1,
   "metadata": {},
   "outputs": [
    {
     "name": "stdout",
     "output_type": "stream",
     "text": [
      "Folders and files created successfully!\n"
     ]
    }
   ],
   "source": [
    "import os\n",
    "\n",
    "base_path = r\"N:\\CS\\rohana DS\\linksTEXT\\SPECIALLINKS\"\n",
    "\n",
    "for i in range(1, 18):  # Loop from 1 to 17\n",
    "    folder_path = os.path.join(base_path, str(i))\n",
    "    os.makedirs(folder_path, exist_ok=True)  # Create the folder if it doesn't exist\n",
    "\n",
    "    # Define the filenames\n",
    "    files = [\n",
    "        f\"{i}_structured_books.txt\",\n",
    "        f\"{i}_summary_structure.txt\",\n",
    "        f\"{i}_body_text.txt\"\n",
    "    ]\n",
    "\n",
    "    # Create empty text files\n",
    "    for file in files:\n",
    "        file_path = os.path.join(folder_path, file)\n",
    "        open(file_path, 'w').close()\n",
    "\n",
    "print(\"Folders and files created successfully!\")\n"
   ]
  }
 ],
 "metadata": {
  "kernelspec": {
   "display_name": "base",
   "language": "python",
   "name": "python3"
  },
  "language_info": {
   "codemirror_mode": {
    "name": "ipython",
    "version": 3
   },
   "file_extension": ".py",
   "mimetype": "text/x-python",
   "name": "python",
   "nbconvert_exporter": "python",
   "pygments_lexer": "ipython3",
   "version": "3.11.3"
  }
 },
 "nbformat": 4,
 "nbformat_minor": 2
}
